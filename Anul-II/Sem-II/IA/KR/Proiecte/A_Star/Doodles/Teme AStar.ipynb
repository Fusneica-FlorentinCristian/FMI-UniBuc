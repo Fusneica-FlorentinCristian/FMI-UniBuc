{
 "cells": [
  {
   "cell_type": "code",
   "execution_count": 1,
   "id": "6a1e2244",
   "metadata": {},
   "outputs": [
    {
     "name": "stdout",
     "output_type": "stream",
     "text": [
      "[ 0 ,   0 ,   0 ,   0 ,   3 ,   0 ,   0 ,   0 ,   1 ]\n",
      "[ 2 ,   3 ,   0 ,   3 ,   4 ,   4 ,   3 ,   2 ,   0 ]\n",
      "[ 0 ,   5 ,   4 ,   0 ,   0 ,   5 ,   0 ,   0 ,   0 ]\n",
      "[ 2 ,   4 ,   0 ,   0 ,   3 ,   0 ,   3 ,   0 ,   1 ]\n",
      "[ 0 ,   0 ,   5 ,   5 ,   4 ,   0 ,   4 ,   4 ,   0 ]\n",
      "[ 0 ,   2 ,   4 ,   4 ,   0 ,   3 ,   3 ,   0 ,   0 ]\n"
     ]
    }
   ],
   "source": [
    "from A_Star import *\n",
    "import copy\n",
    "\n",
    "\n",
    "a, N, M, coord_robinet, coord_canal = read_file(\"date.in\")\n",
    "add_costs(a, N, M)\n",
    "costs = np.array(a).flatten()\n",
    "print_matrix_weights(a)\n",
    "\n",
    "# print_matrix(a)\n",
    "# print(a)\n",
    "# print(coord_canal)"
   ]
  },
  {
   "cell_type": "code",
   "execution_count": 2,
   "id": "e2c3ef19",
   "metadata": {},
   "outputs": [],
   "source": [
    "def coord_to_node(coord_x, coord_y, M):\n",
    "    return M*coord_x + coord_y\n",
    "\n",
    "def node_to_coord(node, M):\n",
    "    return (int(node / M), node % M)\n",
    "\n",
    "def adiacency_matrix(N, M):\n",
    "    a_mat = np.zeros((N * M, N * M))\n",
    "#     print(N,M)\n",
    "    for i in range(N):\n",
    "        for j in range(M):\n",
    "            node_number = coord_to_node(i, j, M)\n",
    "#             print(i, j, node_number)\n",
    "            if j == 0:\n",
    "                a_mat[node_number][node_number + 1] = 1\n",
    "            elif j == M - 1:\n",
    "                a_mat[node_number][node_number - 1] = 1\n",
    "            else:\n",
    "                a_mat[node_number][node_number + 1] = a_mat[node_number][node_number - 1] = 1\n",
    "                \n",
    "            if i == N - 1:\n",
    "#                 print(node_number, node_number - M)\n",
    "                a_mat[node_number][node_number - M] = 1\n",
    "            elif int(node_number / M) == 0:\n",
    "                a_mat[node_number][node_number + M] = 1                    \n",
    "            else:\n",
    "                a_mat[node_number][node_number + M] = a_mat[node_number][node_number - M] = 1\n",
    "    return a_mat\n",
    "\n",
    "def adiacency_matrix_weights(N, M, costs):\n",
    "    a_mat = np.zeros((N * M, N * M))\n",
    "#     print(N,M)\n",
    "    for i in range(N):\n",
    "        for j in range(M):\n",
    "            node_number = coord_to_node(i, j, M)\n",
    "#             print(i, j, node_number)\n",
    "            if j == 0:\n",
    "                a_mat[node_number][node_number + 1] = costs[node_number + 1] + 1\n",
    "            elif j == M - 1:\n",
    "                a_mat[node_number][node_number - 1] = costs[node_number - 1] + 1\n",
    "            else:\n",
    "                a_mat[node_number][node_number + 1] = costs[node_number + 1] + 1\n",
    "                a_mat[node_number][node_number - 1] = costs[node_number - 1] + 1\n",
    "                \n",
    "            if i == N - 1:\n",
    "#                 print(node_number, node_number - M)\n",
    "                a_mat[node_number][node_number - M] = costs[node_number - M] + 1\n",
    "            elif i == 0:\n",
    "                a_mat[node_number][node_number + M] = costs[node_number + M] + 1            \n",
    "            else:\n",
    "                a_mat[node_number][node_number + M] = costs[node_number + M] + 1\n",
    "                a_mat[node_number][node_number - M] = costs[node_number - M] + 1\n",
    "    return a_mat\n",
    "\n",
    "a_mat = adiacency_matrix(N, M)\n",
    "a_mat_weighted = adiacency_matrix_weights(N, M, costs)"
   ]
  },
  {
   "cell_type": "code",
   "execution_count": 3,
   "id": "53b3a003",
   "metadata": {},
   "outputs": [
    {
     "data": {
      "text/plain": [
       "1.0"
      ]
     },
     "execution_count": 3,
     "metadata": {},
     "output_type": "execute_result"
    }
   ],
   "source": [
    "a_mat[4][3]"
   ]
  },
  {
   "cell_type": "code",
   "execution_count": 4,
   "id": "27de7236",
   "metadata": {},
   "outputs": [],
   "source": [
    "def build_vect_h(matrix, scopes = None, N = None, M = None):\n",
    "    vect_h = []\n",
    "    if N is None or M is None:\n",
    "        N = len(matrix)\n",
    "        M = len(matrix[0])\n",
    "    for i in range(N):\n",
    "        for j in range(M):\n",
    "            cost = 0\n",
    "            probably_closest_node = scopes[0]\n",
    "            i_node = probably_closest_node[0]\n",
    "            j_node = probably_closest_node[1]\n",
    "            j_cost = abs(j_node - j)\n",
    "            i_cost = abs(i_node - i)\n",
    "#             print((i, i_node), (j, j_node))\n",
    "            for line in range(min(i, i_node), max(i, i_node) + 1):\n",
    "                for column in range(min(j, j_node), max(j, j_node) + 1):\n",
    "#                     print(matrix[line][column])\n",
    "                    if matrix[line][column] > 0:\n",
    "                        cost += matrix[line][column]\n",
    "            cost += i_cost + j_cost\n",
    "            vect_h.append(cost)\n",
    "    return vect_h\n",
    "\n",
    "def print_vect_h(vect_h):\n",
    "    print(np.array(vect_h).reshape(N,M))"
   ]
  },
  {
   "cell_type": "code",
   "execution_count": 5,
   "id": "716c988f",
   "metadata": {},
   "outputs": [
    {
     "name": "stdout",
     "output_type": "stream",
     "text": [
      "[[66 61 46 32 19 32 46 53 56]\n",
      " [62 57 42 28 15 28 42 49 51]\n",
      " [49 46 34 20 10 19 30 35 37]\n",
      " [39 36 29 19  9 13 24 29 31]\n",
      " [29 28 25 15  5  9 17 22 23]\n",
      " [14 13 10  5  0  4  8  9 10]]\n"
     ]
    }
   ],
   "source": [
    "vect_h = build_vect_h(a, coord_canal, N, M)\n",
    "print_vect_h(vect_h)"
   ]
  },
  {
   "cell_type": "code",
   "execution_count": 6,
   "id": "c254c765",
   "metadata": {},
   "outputs": [],
   "source": [
    "noduri = list(range(0, N * M))\n",
    "# print(noduri)\n",
    "start = coord_to_node(coord_robinet[0],coord_robinet[1],M)\n",
    "scopuri = [coord_to_node(scope[0], scope[1], M) for scope in coord_canal]\n",
    "# print(scopuri)"
   ]
  },
  {
   "cell_type": "code",
   "execution_count": 7,
   "id": "200dcbfd",
   "metadata": {},
   "outputs": [],
   "source": [
    "class NodParcurgere:\n",
    "    graf = None  # static\n",
    "\n",
    "    def __init__(self, id, info, parinte, cost, h):\n",
    "        self.id = id  # este indicele din vectorul de noduri\n",
    "        self.info = info\n",
    "        self.parinte = parinte  # parintele din arborele de parcurgere\n",
    "        self.g = cost  # costul de la radacina la nodul curent\n",
    "        self.h = h\n",
    "        self.f = self.g + self.h\n",
    "\n",
    "    def obtineDrum(self):\n",
    "        l = [self.info]\n",
    "        nod = self\n",
    "        while nod.parinte is not None:\n",
    "            l.insert(0, nod.parinte.info)\n",
    "            nod = nod.parinte\n",
    "        return l\n",
    "\n",
    "    def afisDrum(self):  # returneaza si lungimea drumului\n",
    "        drum = self.obtineDrum()\n",
    "        print((\"->\").join([str(node) for node in drum]))\n",
    "        print(\"Cost: \", self.g)\n",
    "        return len(drum)\n",
    "\n",
    "    def contineInDrum(self, infoNodNou):\n",
    "        nodDrum = self\n",
    "        while nodDrum is not None:\n",
    "            if (infoNodNou == nodDrum.info):\n",
    "                return True\n",
    "            nodDrum = nodDrum.parinte\n",
    "\n",
    "        return False\n",
    "\n",
    "    def __repr__(self):\n",
    "        sir = \"\"\n",
    "#         print(self.info)\n",
    "        sir += str(self.info) + \"(\"\n",
    "        sir += \"id = {}, \".format(self.id)\n",
    "        sir += \"drum=\"\n",
    "        drum = self.obtineDrum()\n",
    "        sir += (\"->\").join([str(node) for node in drum])\n",
    "        sir += \" g:{}\".format(self.g)\n",
    "        sir += \" h:{}\".format(self.h)\n",
    "\n",
    "        sir += \" f:{})\".format(self.f)\n",
    "        return sir\n",
    "\n",
    "\n",
    "class Graph:  # graful problemei\n",
    "    def __init__(self, noduri, matriceAdiacenta, costuri, start, scopuri, lista_h):\n",
    "        self.noduri = noduri\n",
    "        self.matriceAdiacenta = matriceAdiacenta\n",
    "        self.costuri = costuri\n",
    "        self.nrNoduri = len(matriceAdiacenta)\n",
    "        self.start = start\n",
    "        self.scopuri = scopuri\n",
    "        self.lista_h = lista_h\n",
    "\n",
    "    def indiceNod(self, n):\n",
    "        return self.noduri.index(n)\n",
    "\n",
    "    def testeaza_scop(self, nodCurent):\n",
    "#         print(nodCurent.info in self.scopuri)\n",
    "        return nodCurent.info in self.scopuri\n",
    "\n",
    "    # va genera succesorii sub forma de noduri in arborele de parcurgere\n",
    "    def genereazaSuccesori(self, nodCurent):\n",
    "        listaSuccesori = []\n",
    "        for i in range(self.nrNoduri):\n",
    "            if self.matriceAdiacenta[nodCurent.id][i] == 1 and not nodCurent.contineInDrum(self.noduri[i]):\n",
    "                nodNou = NodParcurgere(i, self.noduri[i], nodCurent, nodCurent.g + self.costuri[nodCurent.id],\n",
    "                                       self.calculeaza_h(self.noduri[i]))\n",
    "                listaSuccesori.append(nodNou)\n",
    "        return listaSuccesori\n",
    "\n",
    "    def calculeaza_h(self, infoNod):\n",
    "        return self.lista_h[self.indiceNod(infoNod)]\n",
    "\n",
    "    def __repr__(self):\n",
    "        sir = \"\"\n",
    "        for (k, v) in self.__dict__.items():\n",
    "            sir += \"{} = {}\\n\".format(k, v)\n",
    "        return sir\n",
    "    \n",
    "def a_star(gr, nrSolutiiCautate = 100, showQueue = False):\n",
    "    # in coada vom avea doar noduri de tip NodParcurgere (nodurile din arborele de parcurgere)\n",
    "    copie_nrSolutiiCautate = nrSolutiiCautate\n",
    "    c = [NodParcurgere(gr.indiceNod(gr.start), gr.start, None, 0, gr.calculeaza_h(gr.start))]\n",
    "    best_road = c[0]\n",
    "    while len(c) > 0:\n",
    "        if showQueue:\n",
    "            print(\"Coada actuala: \" + str(c))\n",
    "#             input()\n",
    "        nodCurent = c.pop(0)\n",
    "#         print(\"test\")\n",
    "        if gr.testeaza_scop(nodCurent):\n",
    "#             print(\"Solutie: \")\n",
    "#             nodCurent.afisDrum()\n",
    "            if nodCurent.g < best_road.g or best_road.g == 0:\n",
    "                best_road = nodCurent\n",
    "#             print(\"\\n----------------\\n\")\n",
    "#             input()\n",
    "            nrSolutiiCautate -= 1\n",
    "            if nrSolutiiCautate == 0:\n",
    "                print(f\"Cea mai buna solutie din {copie_nrSolutiiCautate} de solutii: \")\n",
    "                best_road.afisDrum()\n",
    "                return best_road\n",
    "            \n",
    "        lSuccesori = gr.genereazaSuccesori(nodCurent)\n",
    "        for s in lSuccesori:\n",
    "            i = 0\n",
    "            gasit_loc = False\n",
    "            for i in range(len(c)):\n",
    "                # diferenta fata de UCS e ca ordonez dupa f\n",
    "                if c[i].f > s.f:\n",
    "                    gasit_loc = True\n",
    "                    break\n",
    "                elif c[i].f == s.f:\n",
    "                    if s.g <= c[i].g:\n",
    "                        s, c[i] = c[i], s\n",
    "                    gasit_loc = True\n",
    "                    break\n",
    "            if gasit_loc:\n",
    "                c.insert(i, s)\n",
    "            else:\n",
    "                c.append(s)\n",
    "    \n",
    "    print(f\"Cea mai buna solutie dupa ~{copie_nrSolutiiCautate - nrSolutiiCautate} solutii: \")\n",
    "    best_road.afisDrum()\n",
    "    return best_road"
   ]
  },
  {
   "cell_type": "code",
   "execution_count": 8,
   "id": "c0850a55",
   "metadata": {},
   "outputs": [
    {
     "name": "stdout",
     "output_type": "stream",
     "text": [
      "Cea mai buna solutie din 100 de solutii: \n",
      "0->1->2->3->12->21->22->31->32->41->50->49\n",
      "Cost:  9\n",
      "done\n"
     ]
    }
   ],
   "source": [
    "gr = Graph(noduri, a_mat, costs, start, scopuri, vect_h)\n",
    "NodParcurgere.graf = gr\n",
    "best_road = a_star(gr, showQueue = False)\n",
    "print(\"done\")"
   ]
  },
  {
   "cell_type": "code",
   "execution_count": 9,
   "id": "016bf2d2",
   "metadata": {},
   "outputs": [
    {
     "name": "stdout",
     "output_type": "stream",
     "text": [
      "[12, 31, 50]\n"
     ]
    }
   ],
   "source": [
    "destroyed_walls = []\n",
    "for elem in best_road.obtineDrum():\n",
    "    if costs[elem] > 0:\n",
    "        destroyed_walls.append(elem)\n",
    "        \n",
    "print(destroyed_walls)"
   ]
  },
  {
   "cell_type": "code",
   "execution_count": 10,
   "id": "31d2161a",
   "metadata": {},
   "outputs": [],
   "source": [
    "def BFS(a, start, M, N):\n",
    "    nodes = []\n",
    "    # Visited vector to so that a\n",
    "    # vertex is not visited more than\n",
    "    # once Initializing the vector to\n",
    "    # false as no vertex is visited at\n",
    "    # the beginning\n",
    "    vertixes = M * N\n",
    "    visited = [False] * vertixes\n",
    "    q = [start]\n",
    "\n",
    "    # Set source as visited\n",
    "    visited[start] = True\n",
    "\n",
    "    while q:\n",
    "        vis = q[0]\n",
    "\n",
    "        # Print current node\n",
    "#         print(vis, end = ' ')\n",
    "        nodes.append(vis)\n",
    "        q.pop(0)\n",
    "\n",
    "        # For every adjacent vertex to\n",
    "        # the current vertex\n",
    "        for i in range(vertixes):\n",
    "            if ((a[vis][i] == 1 or a[vis][i] == -1) and (not visited[i])):\n",
    "\n",
    "                # Push the adjacent node\n",
    "                # in the queue\n",
    "                q.append(i)\n",
    "\n",
    "                # set\n",
    "                visited[i] = True\n",
    "    return nodes"
   ]
  },
  {
   "cell_type": "code",
   "execution_count": 11,
   "id": "0aa74b3e",
   "metadata": {},
   "outputs": [
    {
     "name": "stdout",
     "output_type": "stream",
     "text": [
      "[0, 1, 2, 3, 11]\n",
      "oooo#ooo#\n",
      "##o#####o\n",
      "o##oo#ooo\n",
      "##oo#o#o#\n",
      "oo###o##o\n",
      "o###o##oo\n"
     ]
    }
   ],
   "source": [
    "flooded_nodes = BFS(a_mat_weighted, start, M, N)\n",
    "print(flooded_nodes)\n",
    "print_matrix(a)"
   ]
  },
  {
   "cell_type": "code",
   "execution_count": 12,
   "id": "70f8dbc1",
   "metadata": {},
   "outputs": [
    {
     "name": "stdout",
     "output_type": "stream",
     "text": [
      "[(0, 0), (0, 1), (0, 2), (0, 3), (1, 2)]\n"
     ]
    }
   ],
   "source": [
    "flooded_coords = [node_to_coord(node, M) for node in flooded_nodes]\n",
    "print(flooded_coords)"
   ]
  },
  {
   "cell_type": "code",
   "execution_count": 13,
   "id": "43e54dbe",
   "metadata": {},
   "outputs": [
    {
     "name": "stdout",
     "output_type": "stream",
     "text": [
      "oooo#ooo#\n",
      "##o#####o\n",
      "o##oo#ooo\n",
      "##oo#o#o#\n",
      "oo###o##o\n",
      "o###o##oo\n",
      "\n",
      "\n",
      "iiii#ooo#\n",
      "##i#####o\n",
      "o##oo#ooo\n",
      "##oo#o#o#\n",
      "oo###o##o\n",
      "o###o##oo\n"
     ]
    }
   ],
   "source": [
    "def flood(flooded_coords, a_mat):\n",
    "    for (x,y) in flooded_coords:\n",
    "        a_mat[x][y] = -1\n",
    "    print_matrix(a_mat)\n",
    "    \n",
    "a_copy = copy.deepcopy(a)\n",
    "print_matrix(a)\n",
    "print(\"\\n\")\n",
    "\n",
    "\n",
    "flood(flooded_coords, a_copy)"
   ]
  },
  {
   "cell_type": "code",
   "execution_count": 14,
   "id": "4b2d65d7",
   "metadata": {},
   "outputs": [],
   "source": [
    "# costs[12] = 0\n",
    "# a_copy_mat_weighted = adiacency_matrix_weights(N, M, costs)\n",
    "# flooded_nodes = BFS(a_copy_mat_weighted, start, M, N)\n",
    "# print(flooded_nodes)\n",
    "# print_matrix(a_copy)\n",
    "# # flooded_coords = [node_to_coord(node, M) for node in flooded_nodes]\n",
    "# print(\"\\n\")\n",
    "# flood(flooded_coords, a_copy)"
   ]
  },
  {
   "cell_type": "code",
   "execution_count": 15,
   "id": "68e510e8",
   "metadata": {},
   "outputs": [],
   "source": [
    "def next_state(start, M, N, last_a_state, costs):\n",
    "    last_state_mat_weighted = adiacency_matrix_weights(N, M, costs)\n",
    "    flooded_nodes = BFS(last_state_mat_weighted, start, M, N)\n",
    "    last_a_state_copy = copy.deepcopy(last_a_state)\n",
    "#     print(flooded_nodes)\n",
    "    flooded_coords = [node_to_coord(node, M) for node in flooded_nodes]\n",
    "    flood(flooded_coords, last_a_state_copy)\n",
    "    return last_a_state_copy"
   ]
  },
  {
   "cell_type": "code",
   "execution_count": 16,
   "id": "1d1f4c05",
   "metadata": {},
   "outputs": [
    {
     "name": "stdout",
     "output_type": "stream",
     "text": [
      "1)\n",
      "iiii#ooo#\n",
      "##i#####o\n",
      "o##oo#ooo\n",
      "##oo#o#o#\n",
      "oo###o##o\n",
      "o###o##oo\n",
      "Eliminăm obstacolul de la (1, 3).\n",
      "\n",
      "2)\n",
      "iiii#ooo#\n",
      "##ii####o\n",
      "o##ii#ooo\n",
      "##ii#o#o#\n",
      "oo###o##o\n",
      "o###o##oo\n",
      "Eliminăm obstacolul de la (3, 4).\n",
      "\n",
      "3)\n",
      "iiii#ooo#\n",
      "##ii####o\n",
      "o##ii#ooo\n",
      "##iiii#o#\n",
      "oo###i##o\n",
      "o###o##oo\n",
      "Eliminăm obstacolul de la (5, 5).\n",
      "\n",
      "4)\n",
      "iiii#ooo#\n",
      "##ii####o\n",
      "o##ii#ooo\n",
      "##iiii#o#\n",
      "oo###i##o\n",
      "o###ii#oo\n"
     ]
    }
   ],
   "source": [
    "# destroyed_coords = [node_to_coord(node, M) for node in destroyed_walls]\n",
    "# print(destroyed_coords)\n",
    "# print_matrix(a)\n",
    "print(\"1)\")\n",
    "state = copy.deepcopy(a)\n",
    "flood(flooded_coords, state)\n",
    "# print(costs)\n",
    "new_costs = copy.deepcopy(costs)\n",
    "for i in range(len(destroyed_walls)):\n",
    "    cost = destroyed_walls[i]\n",
    "    print(\"Eliminăm obstacolul de la {}.\".format(node_to_coord(cost, M)))\n",
    "    print(f\"\\n{i + 2})\")\n",
    "    new_costs = [new_costs[i] if i != cost else 0 for i in range(len(new_costs))]\n",
    "#     print(new_costs)\n",
    "    state = next_state(start, M, N, state, new_costs)\n",
    "    \n"
   ]
  },
  {
   "cell_type": "code",
   "execution_count": null,
   "id": "afb4a4dc",
   "metadata": {},
   "outputs": [],
   "source": []
  }
 ],
 "metadata": {
  "kernelspec": {
   "display_name": "Python 3 (ipykernel)",
   "language": "python",
   "name": "python3"
  },
  "language_info": {
   "codemirror_mode": {
    "name": "ipython",
    "version": 3
   },
   "file_extension": ".py",
   "mimetype": "text/x-python",
   "name": "python",
   "nbconvert_exporter": "python",
   "pygments_lexer": "ipython3",
   "version": "3.10.1"
  }
 },
 "nbformat": 4,
 "nbformat_minor": 5
}
