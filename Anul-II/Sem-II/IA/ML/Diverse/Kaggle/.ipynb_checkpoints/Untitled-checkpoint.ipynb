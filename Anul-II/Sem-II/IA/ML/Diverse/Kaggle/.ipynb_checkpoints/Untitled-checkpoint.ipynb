{
 "cells": [
  {
   "cell_type": "code",
   "execution_count": 1,
   "id": "c6a4894b",
   "metadata": {},
   "outputs": [],
   "source": [
    "import cv2\n",
    "import os\n",
    "import json\n",
    "import time\n",
    "import numpy as np\n",
    "import matplotlib.pyplot as plt\n",
    "from sklearn import svm, metrics\n",
    "from sklearn.pipeline import make_pipeline\n",
    "from sklearn.preprocessing import StandardScaler, Normalizer\n",
    "from sklearn.linear_model import SGDClassifier\n",
    "import csv"
   ]
  },
  {
   "cell_type": "code",
   "execution_count": 2,
   "id": "44b9507e",
   "metadata": {},
   "outputs": [],
   "source": [
    "def read_file(file_name):\n",
    "# Opening JSON file\n",
    "    try:\n",
    "        with open(file_name, \"r\") as f:\n",
    "            csv_reader = csv.reader(f)\n",
    "#             x = [line.strip() for line in f.readlines()]\n",
    "#             print(x)\n",
    "            header, *lines = [elem for elem in csv_reader]\n",
    "            return [[line[index] for line in lines] for index, _  in enumerate(header)]\n",
    "    except Exception as e:\n",
    "        return e.message"
   ]
  },
  {
   "cell_type": "code",
   "execution_count": 3,
   "id": "bce6b56b",
   "metadata": {},
   "outputs": [],
   "source": [
    "def read_images(folder_path, filenames):\n",
    "    start = time.time()\n",
    "    arrays = []\n",
    "    for filename in filenames:\n",
    "        arrays.append(plt.imread(os.path.join(folder_path,filename)).flatten())\n",
    "    print(\"Time for reading images in {}:\".format(folder_path), time.time() - start)\n",
    "    return np.array(arrays)"
   ]
  },
  {
   "cell_type": "code",
   "execution_count": null,
   "id": "b436841b",
   "metadata": {},
   "outputs": [],
   "source": [
    "test_data = read_file(\"test.txt\")\n",
    "train_data = read_file(\"train.txt\")\n",
    "validation_data = read_file(\"validation.txt\")\n",
    "\n",
    "train_images = read_images(\"train+validation\", train_data[0])\n",
    "test_images= read_images(\"test\", test_data[0])\n",
    "validation_images = read_images(\"train+validation\", validation_data[0])"
   ]
  },
  {
   "cell_type": "code",
   "execution_count": null,
   "id": "78d7f498",
   "metadata": {},
   "outputs": [],
   "source": [
    "print(test_images[0])"
   ]
  },
  {
   "cell_type": "code",
   "execution_count": null,
   "id": "e2b7c542",
   "metadata": {},
   "outputs": [],
   "source": [
    "def classifier(X_train, y_train):\n",
    "    start = time.time()\n",
    "#     clf = make_pipeline(StandardScaler(), svm.SVC(kernel='rbf'))  # 0.55\n",
    "    clf = make_pipeline(Normalizer(), svm.SVC(kernel='rbf'))  # 0.53\n",
    "#     clf = make_pipeline(StandardScaler(), SGDClassifier(random_state=42, max_iter=1000, tol=1e-3))  # 0,44\n",
    "#     clf = make_pipeline(StandardScaler(with_mean=False), svm.LinearSVC(random_state=0, tol=1e-5, max_iter = 10000))  # 0.47\n",
    "#     clf = make_pipeline(StandardScaler(), svm.SVC(kernel='rbf'))  # 0.55\n",
    "#     clf = svm.SVC(kernel='rbf')  # 0.54\n",
    "\n",
    "    clf.fit(X_train, y_train)\n",
    "    print(\"Classification time: {}\".format(time.time() - start))\n",
    "    return clf\n",
    "\n",
    "X_train = train_images\n",
    "X_validate = validation_images\n",
    "X_test = test_images\n",
    "y_train = train_data[1]\n",
    "y_validate = validation_data[1]\n",
    "clf_train = classifier(X_train, y_train)"
   ]
  },
  {
   "cell_type": "code",
   "execution_count": 13,
   "id": "f4a42bd9",
   "metadata": {},
   "outputs": [
    {
     "name": "stdout",
     "output_type": "stream",
     "text": [
      "Classification time: 9.637699127197266\n",
      "              precision    recall  f1-score   support\n",
      "\n",
      "           0       0.60      0.45      0.52       216\n",
      "           1       0.39      0.25      0.31       201\n",
      "           2       0.48      0.50      0.49       142\n",
      "           3       0.44      0.46      0.45       150\n",
      "           4       0.53      0.63      0.58       143\n",
      "           5       0.21      0.38      0.27       145\n",
      "           6       0.34      0.28      0.31       176\n",
      "\n",
      "    accuracy                           0.41      1173\n",
      "   macro avg       0.43      0.42      0.42      1173\n",
      "weighted avg       0.43      0.41      0.41      1173\n",
      "\n",
      "              precision    recall  f1-score   support\n",
      "\n",
      "           0       0.69      0.56      0.62      1103\n",
      "           1       0.50      0.46      0.48      1134\n",
      "           2       0.64      0.54      0.59      1162\n",
      "           3       0.54      0.59      0.56      1155\n",
      "           4       0.74      0.76      0.75      1164\n",
      "           5       0.33      0.47      0.39      1145\n",
      "           6       0.47      0.43      0.45      1137\n",
      "\n",
      "    accuracy                           0.54      8000\n",
      "   macro avg       0.56      0.54      0.55      8000\n",
      "weighted avg       0.56      0.54      0.55      8000\n",
      "\n",
      "['0' '6' '3' ... '4' '1' '5']\n"
     ]
    }
   ],
   "source": [
    "predicted_validate = clf_train.predict(X_validate)\n",
    "predicted_train = clf_train.predict(X_train)\n",
    "predicted_test = clf_train.predict(X_test)\n",
    "\n",
    "print(metrics.classification_report(y_validate, predicted_validate))\n",
    "print(metrics.classification_report(y_train, predicted_train))\n",
    "print(predicted_test)"
   ]
  },
  {
   "cell_type": "code",
   "execution_count": null,
   "id": "b88726db",
   "metadata": {},
   "outputs": [],
   "source": []
  }
 ],
 "metadata": {
  "kernelspec": {
   "display_name": "Python 3 (ipykernel)",
   "language": "python",
   "name": "python3"
  },
  "language_info": {
   "codemirror_mode": {
    "name": "ipython",
    "version": 3
   },
   "file_extension": ".py",
   "mimetype": "text/x-python",
   "name": "python",
   "nbconvert_exporter": "python",
   "pygments_lexer": "ipython3",
   "version": "3.10.1"
  }
 },
 "nbformat": 4,
 "nbformat_minor": 5
}
